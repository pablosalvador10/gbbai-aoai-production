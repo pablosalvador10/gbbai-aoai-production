{
 "cells": [
  {
   "cell_type": "markdown",
   "metadata": {},
   "source": [
    "## 📚 Prerequisites\n",
    "\n",
    "Ensure that your Azure Services are properly set up, your Conda environment is created, and your environment variables are configured as per the instructions in the [SETTINGS.md](SETTINGS.md) file.\n"
   ]
  },
  {
   "cell_type": "code",
   "execution_count": 1,
   "metadata": {},
   "outputs": [
    {
     "name": "stdout",
     "output_type": "stream",
     "text": [
      "Directory changed to C:\\Users\\pablosal\\Desktop\\gbbai-azure-openai-in-production\n"
     ]
    }
   ],
   "source": [
    "import os\n",
    "import json\n",
    "\n",
    "# Define the target directory\n",
    "target_directory = (\n",
    "    r\"C:\\Users\\pablosal\\Desktop\\gbbai-azure-openai-in-production\"\n",
    ")\n",
    "\n",
    "# Check if the directory exists\n",
    "if os.path.exists(target_directory):\n",
    "    # Change the current working directory\n",
    "    os.chdir(target_directory)\n",
    "    print(f\"Directory changed to {os.getcwd()}\")\n",
    "else:\n",
    "    print(f\"Directory {target_directory} does not exist.\")"
   ]
  },
  {
   "cell_type": "code",
   "execution_count": 2,
   "metadata": {},
   "outputs": [
    {
     "data": {
      "text/plain": [
       "True"
      ]
     },
     "execution_count": 2,
     "metadata": {},
     "output_type": "execute_result"
    }
   ],
   "source": [
    "# Import the libraries\n",
    "from dotenv import load_dotenv\n",
    "# Load environment variables from .env file\n",
    "load_dotenv()"
   ]
  },
  {
   "cell_type": "markdown",
   "metadata": {},
   "source": [
    "## Setting Up Azure OpenAI Client"
   ]
  },
  {
   "cell_type": "markdown",
   "metadata": {},
   "source": [
    "### Round-Robin"
   ]
  },
  {
   "cell_type": "code",
   "execution_count": 3,
   "metadata": {},
   "outputs": [
    {
     "name": "stdout",
     "output_type": "stream",
     "text": [
      "x-ms-region: West US\n",
      "{\n",
      "    \"choices\": [\n",
      "        {\n",
      "            \"content_filter_results\": {\n",
      "                \"hate\": {\n",
      "                    \"filtered\": false,\n",
      "                    \"severity\": \"safe\"\n",
      "                },\n",
      "                \"self_harm\": {\n",
      "                    \"filtered\": false,\n",
      "                    \"severity\": \"safe\"\n",
      "                },\n",
      "                \"sexual\": {\n",
      "                    \"filtered\": false,\n",
      "                    \"severity\": \"safe\"\n",
      "                },\n",
      "                \"violence\": {\n",
      "                    \"filtered\": false,\n",
      "                    \"severity\": \"safe\"\n",
      "                }\n",
      "            },\n",
      "            \"finish_reason\": \"stop\",\n",
      "            \"index\": 0,\n",
      "            \"logprobs\": null,\n",
      "            \"message\": {\n",
      "                \"content\": \"Yes, Azure OpenAI supports customer managed keys. This means that you can use your own keys to encrypt and decrypt your data in Azure OpenAI. By using customer managed keys, you have more control over the security and access to your data.\",\n",
      "                \"role\": \"assistant\"\n",
      "            }\n",
      "        }\n",
      "    ],\n",
      "    \"created\": 1714405922,\n",
      "    \"id\": \"chatcmpl-9JNaMRkc9KftkDmYrkkgWvOd5W2gh\",\n",
      "    \"model\": \"gpt-35-turbo\",\n",
      "    \"object\": \"chat.completion\",\n",
      "    \"prompt_filter_results\": [\n",
      "        {\n",
      "            \"prompt_index\": 0,\n",
      "            \"content_filter_results\": {\n",
      "                \"hate\": {\n",
      "                    \"filtered\": false,\n",
      "                    \"severity\": \"safe\"\n",
      "                },\n",
      "                \"self_harm\": {\n",
      "                    \"filtered\": false,\n",
      "                    \"severity\": \"safe\"\n",
      "                },\n",
      "                \"sexual\": {\n",
      "                    \"filtered\": false,\n",
      "                    \"severity\": \"safe\"\n",
      "                },\n",
      "                \"violence\": {\n",
      "                    \"filtered\": false,\n",
      "                    \"severity\": \"safe\"\n",
      "                }\n",
      "            }\n",
      "        }\n",
      "    ],\n",
      "    \"system_fingerprint\": \"fp_2f57f81c11\",\n",
      "    \"usage\": {\n",
      "        \"completion_tokens\": 49,\n",
      "        \"prompt_tokens\": 26,\n",
      "        \"total_tokens\": 75\n",
      "    }\n",
      "}\n",
      "{'Cache-Control': 'no-cache, must-revalidate', 'Content-Length': '1044', 'Content-Type': 'application/json', 'access-control-allow-origin': '*', 'cmp-upstream-response-duration': '544', 'apim-request-id': 'f8231bd4-7f43-4f70-a116-3d2609f61f0a', 'Strict-Transport-Security': 'max-age=31536000; includeSubDomains; preload', 'x-content-type-options': 'nosniff', 'x-ms-region': 'West US', 'x-ratelimit-remaining-requests': '0', 'x-ratelimit-remaining-tokens': '879', 'x-accel-buffering': 'no', 'x-ms-rai-invoked': 'true', 'x-request-id': '5520a6a3-bea0-41e1-ad2f-3acc291184bb', 'x-ms-client-request-id': 'Not-Set', 'azureml-model-session': 'd067-20240402224223', 'Date': 'Mon, 29 Apr 2024 15:52:02 GMT'}\n",
      "x-ms-region: West US\n"
     ]
    }
   ],
   "source": [
    "import requests\n",
    "import json\n",
    "\n",
    "url = os.getenv(\"APIM_OPENAI_ENDPOINT_RB\")\n",
    "key = os.getenv(\"APIM_API_KEY_RB\")\n",
    "\n",
    "headers = {\n",
    "    \"Content-Type\": \"application/json\",\n",
    "    \"Ocp-Apim-Subscription-Key\": key,\n",
    "}\n",
    "\n",
    "data = {\n",
    "    \"temperature\": 1,\n",
    "    \"top_p\": 1,\n",
    "    \"stream\": False,\n",
    "    \"stop\": None,\n",
    "    \"max_tokens\": 100,\n",
    "    \"presence_penalty\": 0,\n",
    "    \"frequency_penalty\": 0,\n",
    "    \"logit_bias\": {},\n",
    "    \"user\": \"user-1234\",\n",
    "    \"messages\": [\n",
    "        {\"role\": \"system\", \"content\": \"You are a helpful assistant.\"},\n",
    "        {\"role\": \"user\", \"content\": \"Does Azure OpenAI support customer managed keys?\"}\n",
    "    ]\n",
    "}\n",
    "\n",
    "response = requests.post(url, headers=headers, data=json.dumps(data))\n",
    "\n",
    "# Print headers\n",
    "print(\"x-ms-region:\", response.headers.get('x-ms-region'))\n",
    "\n",
    "# Get response data as a Python dictionary\n",
    "data = response.json()\n",
    "\n",
    "# Convert the dictionary to a nicely formatted JSON string\n",
    "pretty_data = json.dumps(data, indent=4)\n",
    "\n",
    "# Print the formatted JSON string\n",
    "print(pretty_data)\n",
    "print(response.headers)\n",
    "# Print headers\n",
    "print(\"x-ms-region:\", response.headers.get('x-ms-region'))"
   ]
  },
  {
   "cell_type": "markdown",
   "metadata": {},
   "source": [
    "### Smart-Balancing"
   ]
  },
  {
   "cell_type": "code",
   "execution_count": 4,
   "metadata": {},
   "outputs": [],
   "source": [
    "from openai import AzureOpenAI\n",
    "\n",
    "client = AzureOpenAI(\n",
    "    azure_endpoint=\"https://aoai-load-balancing-003-eastus.azure-api.net\",\n",
    "    api_key=\"341762c33c874c37b02a6f0d58a406a9\",\n",
    "    api_version=\"2023-12-01-preview\"\n",
    ")\n",
    "\n",
    "response = client.chat.completions.create(\n",
    "    model=\"gpt-35-turbo\",\n",
    "    messages=[\n",
    "        {\"role\": \"system\", \"content\": \"You are a helpful assistant.\"},\n",
    "        {\"role\": \"user\", \"content\": \"Does Azure OpenAI support customer managed keys?\"}\n",
    "    ]\n",
    ")"
   ]
  },
  {
   "cell_type": "code",
   "execution_count": 5,
   "metadata": {},
   "outputs": [
    {
     "data": {
      "text/plain": [
       "ChatCompletion(id='chatcmpl-9JNaUDmerOzrnpAXudyxfwHSpV3np', choices=[Choice(finish_reason='stop', index=0, logprobs=None, message=ChatCompletionMessage(content='Yes, Azure OpenAI supports customer managed keys. With customer managed keys, you can bring your own encryption keys and manage their lifecycle. This ensures that you have complete control over your data and can enforce your own security policies. By default, Azure OpenAI uses Microsoft-managed keys, but you can choose to use customer managed keys for added security and compliance.', role='assistant', function_call=None, tool_calls=None), content_filter_results={'hate': {'filtered': False, 'severity': 'safe'}, 'self_harm': {'filtered': False, 'severity': 'safe'}, 'sexual': {'filtered': False, 'severity': 'safe'}, 'violence': {'filtered': False, 'severity': 'safe'}})], created=1714405930, model='gpt-35-turbo', object='chat.completion', system_fingerprint=None, usage=CompletionUsage(completion_tokens=72, prompt_tokens=26, total_tokens=98), prompt_filter_results=[{'prompt_index': 0, 'content_filter_results': {'hate': {'filtered': False, 'severity': 'safe'}, 'self_harm': {'filtered': False, 'severity': 'safe'}, 'sexual': {'filtered': False, 'severity': 'safe'}, 'violence': {'filtered': False, 'severity': 'safe'}}}])"
      ]
     },
     "execution_count": 5,
     "metadata": {},
     "output_type": "execute_result"
    }
   ],
   "source": [
    "response"
   ]
  },
  {
   "cell_type": "code",
   "execution_count": 6,
   "metadata": {},
   "outputs": [],
   "source": [
    "url = os.getenv(\"APIM_OPENAI_ENDPOINT_SB\")\n",
    "key = os.getenv(\"APIM_API_KEY_SB\")"
   ]
  },
  {
   "cell_type": "code",
   "execution_count": 8,
   "metadata": {},
   "outputs": [
    {
     "name": "stdout",
     "output_type": "stream",
     "text": [
      "x-ms-region: Canada East\n",
      "{'choices': [{'content_filter_results': {'hate': {'filtered': False, 'severity': 'safe'}, 'self_harm': {'filtered': False, 'severity': 'safe'}, 'sexual': {'filtered': False, 'severity': 'safe'}, 'violence': {'filtered': False, 'severity': 'safe'}}, 'finish_reason': 'stop', 'index': 0, 'message': {'content': 'Yes, Azure OpenAI supports customer managed keys. You can use Azure Key Vault to manage and control access to the keys used to encrypt your data and use it for authorization purposes.', 'role': 'assistant'}}], 'created': 1714405954, 'id': 'chatcmpl-9JNasIsDRgZtRIIDcuyKuflwaevfD', 'model': 'gpt-35-turbo', 'object': 'chat.completion', 'prompt_filter_results': [{'prompt_index': 0, 'content_filter_results': {'hate': {'filtered': False, 'severity': 'safe'}, 'self_harm': {'filtered': False, 'severity': 'safe'}, 'sexual': {'filtered': False, 'severity': 'safe'}, 'violence': {'filtered': False, 'severity': 'safe'}}}], 'system_fingerprint': 'fp_2f57f81c11', 'usage': {'completion_tokens': 36, 'prompt_tokens': 26, 'total_tokens': 62}}\n",
      "Cache-Control: no-cache, must-revalidate\n",
      "Content-Length: 973\n",
      "Content-Type: application/json\n",
      "access-control-allow-origin: *\n",
      "cmp-upstream-response-duration: 394\n",
      "apim-request-id: fc51c5db-65c9-4524-b225-252d3bd27831\n",
      "Strict-Transport-Security: max-age=31536000; includeSubDomains; preload\n",
      "x-content-type-options: nosniff\n",
      "x-ms-region: Canada East\n",
      "x-ratelimit-remaining-requests: 18\n",
      "x-ratelimit-remaining-tokens: 17979\n",
      "x-accel-buffering: no\n",
      "x-ms-rai-invoked: true\n",
      "x-request-id: b858384f-cbc4-474d-bd04-5da7edb0ae62\n",
      "x-ms-client-request-id: Not-Set\n",
      "azureml-model-session: d038-20240327121548\n",
      "x-openai-backendurl: https://dev-aoai-aoai-canadaeast.openai.azure.com//openai\n",
      "Request-Context: appId=cid-v1:b3b59a42-6101-44c9-b08e-f094c79dcfca\n",
      "Date: Mon, 29 Apr 2024 15:52:34 GMT\n"
     ]
    }
   ],
   "source": [
    "import requests\n",
    "import json\n",
    "\n",
    "url = os.getenv(\"APIM_OPENAI_ENDPOINT_SB\")\n",
    "key = os.getenv(\"APIM_API_KEY_SB\")\n",
    "\n",
    "headers = {\n",
    "    \"Content-Type\": \"application/json\",\n",
    "    \"api-key\": key,\n",
    "}\n",
    "\n",
    "data = {\n",
    "    \"temperature\": 1,\n",
    "    \"top_p\": 1,\n",
    "    \"stream\": False,\n",
    "    \"stop\": None,\n",
    "    \"max_tokens\": 1000,\n",
    "    \"presence_penalty\": 0,\n",
    "    \"frequency_penalty\": 0,\n",
    "    \"logit_bias\": {},\n",
    "    \"user\": \"user-1234\",\n",
    "    \"messages\": [\n",
    "        {\"role\": \"system\", \"content\": \"You are a helpful assistant.\"},\n",
    "        {\"role\": \"user\", \"content\": \"Does Azure OpenAI support customer managed keys?\"}\n",
    "    ]\n",
    "}\n",
    "\n",
    "response = requests.post(url, headers=headers, data=json.dumps(data))\n",
    "\n",
    "# Print headers\n",
    "print(\"x-ms-region:\", response.headers.get('x-ms-region'))\n",
    "\n",
    "# Get response data as a Python dictionary\n",
    "data = response.json()\n",
    "\n",
    "# Convert the dictionary to a nicely formatted JSON string\n",
    "print(data)\n",
    "\n",
    "for header, value in response.headers.items():\n",
    "    print(f\"{header}: {value}\")"
   ]
  }
 ],
 "metadata": {
  "kernelspec": {
   "display_name": "vector-indexing-azureaisearch",
   "language": "python",
   "name": "python3"
  },
  "language_info": {
   "codemirror_mode": {
    "name": "ipython",
    "version": 3
   },
   "file_extension": ".py",
   "mimetype": "text/x-python",
   "name": "python",
   "nbconvert_exporter": "python",
   "pygments_lexer": "ipython3",
   "version": "3.9.19"
  }
 },
 "nbformat": 4,
 "nbformat_minor": 2
}

{
 "cells": [
  {
   "cell_type": "markdown",
   "metadata": {},
   "source": [
    "## 📚 Prerequisites\n",
    "\n",
    "Ensure that your Azure Services are properly set up, your Conda environment is created, and your environment variables are configured as per the instructions in the [SETTINGS.md](SETTINGS.md) file.\n",
    "\n",
    "## 📋 Table of Contents\n",
    "\n",
    "This notebook assists in testing and retrieving the headers of Azure OpenAI, covering the following sections:\n",
    "\n",
    "1. [**Setting Up Azure OpenAI Client**](#setting-up-azure-openai-client): Outlines the process of initializing the Azure OpenAI client.\n",
    "\n",
    "2. [**Calling Azure OpenAI API**](#calling-azure-openai-api): Discusses how to make API calls to Azure OpenAI.\n",
    "\n",
    "3. [**Extracting Headers and Payload Metadata**](#extracting-headers-and-payload-metadata): Explores how to extract headers and payload metadata from the API response.\n",
    "\n",
    "4. [**Analyzing Rate Limit Info**](#analyzing-rate-limit-info): Details the steps to analyze the rate limit information from the API response.\n",
    "\n",
    "For additional information, refer to the following resources:\n",
    "- [AOAI API Documentation](https://learn.microsoft.com/en-us/azure/ai-services/openai/reference)"
   ]
  },
  {
   "cell_type": "code",
   "execution_count": 1,
   "metadata": {},
   "outputs": [
    {
     "name": "stdout",
     "output_type": "stream",
     "text": [
      "Directory changed to C:\\Users\\pablosal\\Desktop\\gbbai-azure-aoai-faq\n"
     ]
    }
   ],
   "source": [
    "import os\n",
    "import json\n",
    "\n",
    "# Define the target directory\n",
    "target_directory = (\n",
    "    r\"C:\\Users\\pablosal\\Desktop\\gbbai-azure-aoai-faq\"  # change your directory here\n",
    ")\n",
    "\n",
    "# Check if the directory exists\n",
    "if os.path.exists(target_directory):\n",
    "    # Change the current working directory\n",
    "    os.chdir(target_directory)\n",
    "    print(f\"Directory changed to {os.getcwd()}\")\n",
    "else:\n",
    "    print(f\"Directory {target_directory} does not exist.\")"
   ]
  },
  {
   "cell_type": "code",
   "execution_count": 2,
   "metadata": {},
   "outputs": [
    {
     "data": {
      "text/plain": [
       "True"
      ]
     },
     "execution_count": 2,
     "metadata": {},
     "output_type": "execute_result"
    }
   ],
   "source": [
    "# Import the libraries\n",
    "from dotenv import load_dotenv\n",
    "import requests\n",
    "# Load environment variables from .env file\n",
    "load_dotenv()"
   ]
  },
  {
   "cell_type": "markdown",
   "metadata": {},
   "source": [
    "## Setting Up Azure OpenAI Client"
   ]
  },
  {
   "cell_type": "markdown",
   "metadata": {},
   "source": [
    "### Round-Robin"
   ]
  },
  {
   "cell_type": "code",
   "execution_count": 38,
   "metadata": {},
   "outputs": [
    {
     "name": "stdout",
     "output_type": "stream",
     "text": [
      "x-ms-region: UK South\n",
      "{\n",
      "    \"choices\": [\n",
      "        {\n",
      "            \"content_filter_results\": {\n",
      "                \"hate\": {\n",
      "                    \"filtered\": false,\n",
      "                    \"severity\": \"safe\"\n",
      "                },\n",
      "                \"self_harm\": {\n",
      "                    \"filtered\": false,\n",
      "                    \"severity\": \"safe\"\n",
      "                },\n",
      "                \"sexual\": {\n",
      "                    \"filtered\": false,\n",
      "                    \"severity\": \"safe\"\n",
      "                },\n",
      "                \"violence\": {\n",
      "                    \"filtered\": false,\n",
      "                    \"severity\": \"safe\"\n",
      "                }\n",
      "            },\n",
      "            \"finish_reason\": \"stop\",\n",
      "            \"index\": 0,\n",
      "            \"logprobs\": null,\n",
      "            \"message\": {\n",
      "                \"content\": \"As of my last update, Azure OpenAI does not support customer managed keys. However, it's a good idea to check the official documentation or contact Azure support for the most current information.\",\n",
      "                \"role\": \"assistant\"\n",
      "            }\n",
      "        }\n",
      "    ],\n",
      "    \"created\": 1714370065,\n",
      "    \"id\": \"chatcmpl-9JEG1C0D9qUVEtIWpH5xy3swo88nu\",\n",
      "    \"model\": \"gpt-35-turbo\",\n",
      "    \"object\": \"chat.completion\",\n",
      "    \"prompt_filter_results\": [\n",
      "        {\n",
      "            \"prompt_index\": 0,\n",
      "            \"content_filter_results\": {\n",
      "                \"hate\": {\n",
      "                    \"filtered\": false,\n",
      "                    \"severity\": \"safe\"\n",
      "                },\n",
      "                \"self_harm\": {\n",
      "                    \"filtered\": false,\n",
      "                    \"severity\": \"safe\"\n",
      "                },\n",
      "                \"sexual\": {\n",
      "                    \"filtered\": false,\n",
      "                    \"severity\": \"safe\"\n",
      "                },\n",
      "                \"violence\": {\n",
      "                    \"filtered\": false,\n",
      "                    \"severity\": \"safe\"\n",
      "                }\n",
      "            }\n",
      "        }\n",
      "    ],\n",
      "    \"system_fingerprint\": \"fp_2f57f81c11\",\n",
      "    \"usage\": {\n",
      "        \"completion_tokens\": 38,\n",
      "        \"prompt_tokens\": 26,\n",
      "        \"total_tokens\": 64\n",
      "    }\n",
      "}\n",
      "{'Cache-Control': 'no-cache, must-revalidate', 'Content-Length': '1001', 'Content-Type': 'application/json', 'access-control-allow-origin': '*', 'cmp-upstream-response-duration': '396', 'apim-request-id': '7201796e-647f-4102-8b68-1b7cf3573f83', 'Strict-Transport-Security': 'max-age=31536000; includeSubDomains; preload', 'x-content-type-options': 'nosniff', 'x-ms-region': 'UK South', 'x-ratelimit-remaining-requests': '0', 'x-ratelimit-remaining-tokens': '879', 'x-accel-buffering': 'no', 'x-ms-rai-invoked': 'true', 'x-request-id': '0496c954-f483-40be-9bd8-5da5ea56e79f', 'x-ms-client-request-id': 'Not-Set', 'azureml-model-session': 'd026-20240416194900', 'Date': 'Mon, 29 Apr 2024 05:54:25 GMT'}\n",
      "x-ms-region: UK South\n"
     ]
    }
   ],
   "source": [
    "import requests\n",
    "import json\n",
    "\n",
    "url = os.getenv(\"URL\")\n",
    "key = os.getenv(\"KEY\")\n",
    "\n",
    "headers = {\n",
    "    \"Content-Type\": \"application/json\",\n",
    "    \"Ocp-Apim-Subscription-Key\": key,\n",
    "}\n",
    "\n",
    "data = {\n",
    "    \"temperature\": 1,\n",
    "    \"top_p\": 1,\n",
    "    \"stream\": False,\n",
    "    \"stop\": None,\n",
    "    \"max_tokens\": 100,\n",
    "    \"presence_penalty\": 0,\n",
    "    \"frequency_penalty\": 0,\n",
    "    \"logit_bias\": {},\n",
    "    \"user\": \"user-1234\",\n",
    "    \"messages\": [\n",
    "        {\"role\": \"system\", \"content\": \"You are a helpful assistant.\"},\n",
    "        {\"role\": \"user\", \"content\": \"Does Azure OpenAI support customer managed keys?\"}\n",
    "    ]\n",
    "}\n",
    "\n",
    "response = requests.post(url, headers=headers, data=json.dumps(data))\n",
    "\n",
    "# Print headers\n",
    "print(\"x-ms-region:\", response.headers.get('x-ms-region'))\n",
    "\n",
    "# Get response data as a Python dictionary\n",
    "data = response.json()\n",
    "\n",
    "# Convert the dictionary to a nicely formatted JSON string\n",
    "pretty_data = json.dumps(data, indent=4)\n",
    "\n",
    "# Print the formatted JSON string\n",
    "print(pretty_data)\n",
    "print(response.headers)\n",
    "# Print headers\n",
    "print(\"x-ms-region:\", response.headers.get('x-ms-region'))"
   ]
  },
  {
   "cell_type": "markdown",
   "metadata": {},
   "source": [
    "### Smart-Balancing"
   ]
  },
  {
   "cell_type": "code",
   "execution_count": 15,
   "metadata": {},
   "outputs": [],
   "source": [
    "from openai import AzureOpenAI\n",
    "\n",
    "client = AzureOpenAI(\n",
    "    azure_endpoint=\"https://aoai-load-balancing-003-eastus.azure-api.net\",\n",
    "    api_key=\"341762c33c874c37b02a6f0d58a406a9\",\n",
    "    api_version=\"2023-12-01-preview\"\n",
    ")"
   ]
  },
  {
   "cell_type": "code",
   "execution_count": 16,
   "metadata": {},
   "outputs": [],
   "source": [
    "response = client.chat.completions.create(\n",
    "    model=\"gpt-35-turbo\",\n",
    "    messages=[\n",
    "        {\"role\": \"system\", \"content\": \"You are a helpful assistant.\"},\n",
    "        {\"role\": \"user\", \"content\": \"Does Azure OpenAI support customer managed keys?\"}\n",
    "    ]\n",
    ")"
   ]
  },
  {
   "cell_type": "code",
   "execution_count": 28,
   "metadata": {},
   "outputs": [
    {
     "name": "stdout",
     "output_type": "stream",
     "text": [
      "x-ms-region: Canada East\n",
      "{'choices': [{'content_filter_results': {'hate': {'filtered': False, 'severity': 'safe'}, 'self_harm': {'filtered': False, 'severity': 'safe'}, 'sexual': {'filtered': False, 'severity': 'safe'}, 'violence': {'filtered': False, 'severity': 'safe'}}, 'finish_reason': 'stop', 'index': 0, 'message': {'content': 'Yes, Azure OpenAI supports customer-managed keys for API security to provide customers with greater control and security over their data and resources. You can use Azure Key Vault to manage and control the encryption keys and secrets used for accessing the OpenAI API.', 'role': 'assistant'}}], 'created': 1714369974, 'id': 'chatcmpl-9JEEYbX9UWL8WdVvWhWKRXdgQJ9Mi', 'model': 'gpt-35-turbo', 'object': 'chat.completion', 'prompt_filter_results': [{'prompt_index': 0, 'content_filter_results': {'hate': {'filtered': False, 'severity': 'safe'}, 'self_harm': {'filtered': False, 'severity': 'safe'}, 'sexual': {'filtered': False, 'severity': 'safe'}, 'violence': {'filtered': False, 'severity': 'safe'}}}], 'system_fingerprint': 'fp_2f57f81c11', 'usage': {'completion_tokens': 50, 'prompt_tokens': 26, 'total_tokens': 76}}\n",
      "Cache-Control: no-cache, must-revalidate\n",
      "Content-Length: 1058\n",
      "Content-Type: application/json\n",
      "access-control-allow-origin: *\n",
      "cmp-upstream-response-duration: 459\n",
      "apim-request-id: fd3400ac-5d95-4533-9179-c58e65f058e8\n",
      "Strict-Transport-Security: max-age=31536000; includeSubDomains; preload\n",
      "x-content-type-options: nosniff\n",
      "x-ms-region: Canada East\n",
      "x-ratelimit-remaining-requests: 15\n",
      "x-ratelimit-remaining-tokens: 8129\n",
      "x-accel-buffering: no\n",
      "x-ms-rai-invoked: true\n",
      "x-request-id: 3a0f53ec-1a51-424b-b1dc-b87efb6b7b33\n",
      "x-ms-client-request-id: Not-Set\n",
      "azureml-model-session: d039-20240327125535\n",
      "x-openai-backendurl: https://dev-aoai-aoai-canadaeast.openai.azure.com//openai\n",
      "Request-Context: appId=cid-v1:b3b59a42-6101-44c9-b08e-f094c79dcfca\n",
      "Date: Mon, 29 Apr 2024 05:52:54 GMT\n"
     ]
    }
   ],
   "source": [
    "import requests\n",
    "import json\n",
    "\n",
    "url = os.getenv(\"URL_SB\")\n",
    "key = os.getenv(\"KEY_SB\")\n",
    "\n",
    "headers = {\n",
    "    \"Content-Type\": \"application/json\",\n",
    "    \"api-key\": key,\n",
    "}\n",
    "\n",
    "data = {\n",
    "    \"temperature\": 1,\n",
    "    \"top_p\": 1,\n",
    "    \"stream\": False,\n",
    "    \"stop\": None,\n",
    "    \"max_tokens\": 1000,\n",
    "    \"presence_penalty\": 0,\n",
    "    \"frequency_penalty\": 0,\n",
    "    \"logit_bias\": {},\n",
    "    \"user\": \"user-1234\",\n",
    "    \"messages\": [\n",
    "        {\"role\": \"system\", \"content\": \"You are a helpful assistant.\"},\n",
    "        {\"role\": \"user\", \"content\": \"Does Azure OpenAI support customer managed keys?\"}\n",
    "    ]\n",
    "}\n",
    "\n",
    "response = requests.post(url, headers=headers, data=json.dumps(data))\n",
    "\n",
    "# Print headers\n",
    "print(\"x-ms-region:\", response.headers.get('x-ms-region'))\n",
    "\n",
    "# Get response data as a Python dictionary\n",
    "data = response.json()\n",
    "\n",
    "# Convert the dictionary to a nicely formatted JSON string\n",
    "print(data)\n",
    "\n",
    "for header, value in response.headers.items():\n",
    "    print(f\"{header}: {value}\")"
   ]
  }
 ],
 "metadata": {
  "kernelspec": {
   "display_name": "vector-indexing-azureaisearch",
   "language": "python",
   "name": "python3"
  },
  "language_info": {
   "codemirror_mode": {
    "name": "ipython",
    "version": 3
   },
   "file_extension": ".py",
   "mimetype": "text/x-python",
   "name": "python",
   "nbconvert_exporter": "python",
   "pygments_lexer": "ipython3",
   "version": "3.9.19"
  }
 },
 "nbformat": 4,
 "nbformat_minor": 2
}
